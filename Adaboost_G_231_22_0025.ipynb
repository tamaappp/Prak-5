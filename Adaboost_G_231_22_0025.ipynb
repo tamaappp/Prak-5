{
  "nbformat": 4,
  "nbformat_minor": 0,
  "metadata": {
    "colab": {
      "provenance": []
    },
    "kernelspec": {
      "name": "python3",
      "display_name": "Python 3"
    },
    "language_info": {
      "name": "python"
    }
  },
  "cells": [
    {
      "cell_type": "code",
      "execution_count": 1,
      "metadata": {
        "id": "6khx4sIYoog6"
      },
      "outputs": [],
      "source": [
        "#load libraries\n",
        "from sklearn.ensemble import AdaBoostClassifier\n",
        "from sklearn import datasets\n",
        "#Import train_test_split function\n",
        "from sklearn.model_selection import train_test_split\n",
        "#import scikit-learn metrics modul for accuracy calculation\n",
        "from sklearn import metrics"
      ]
    },
    {
      "cell_type": "code",
      "source": [
        "#load data\n",
        "iris = datasets.load_iris()\n",
        "x = iris.data\n",
        "y = iris.target"
      ],
      "metadata": {
        "id": "TtX8mvKBo4dM"
      },
      "execution_count": 2,
      "outputs": []
    },
    {
      "cell_type": "code",
      "source": [
        "#split dataset into training set  and test set\n",
        "x_train,x_test, y_train, y_test = train_test_split(x, y, test_size=0.3) # 70% training and 30% test"
      ],
      "metadata": {
        "id": "KY9lZpS5o_DI"
      },
      "execution_count": 3,
      "outputs": []
    },
    {
      "cell_type": "code",
      "source": [
        "#create adaboost classifer object\n",
        "abc = AdaBoostClassifier(n_estimators=50,learning_rate=1)\n",
        "#train adaboost classifier\n",
        "model = abc.fit(x_train, y_train)\n",
        "#predict the response for test dataset\n",
        "y_pred = model.predict(x_test)"
      ],
      "metadata": {
        "id": "SGHxRITbpFEv"
      },
      "execution_count": 4,
      "outputs": []
    },
    {
      "cell_type": "code",
      "source": [
        "#model accuracy, how often is the classifier correct?\n",
        "print(\"Accuracy:\",metrics.accuracy_score(y_test, y_pred))"
      ],
      "metadata": {
        "colab": {
          "base_uri": "https://localhost:8080/"
        },
        "id": "fw0WpJwMpJTU",
        "outputId": "af8adf23-d41c-40c0-dcf0-1ca27ce3b835"
      },
      "execution_count": 5,
      "outputs": [
        {
          "output_type": "stream",
          "name": "stdout",
          "text": [
            "Accuracy: 0.9333333333333333\n"
          ]
        }
      ]
    },
    {
      "cell_type": "code",
      "source": [
        "!git clone https://github.com/eriklindernoren/ML-From-Scratch"
      ],
      "metadata": {
        "colab": {
          "base_uri": "https://localhost:8080/"
        },
        "id": "Ipypci19pQxh",
        "outputId": "1ade5453-d236-4a6c-973c-5d01307aad95"
      },
      "execution_count": 6,
      "outputs": [
        {
          "output_type": "stream",
          "name": "stdout",
          "text": [
            "Cloning into 'ML-From-Scratch'...\n",
            "remote: Enumerating objects: 2558, done.\u001b[K\n",
            "remote: Total 2558 (delta 0), reused 0 (delta 0), pack-reused 2558\u001b[K\n",
            "Receiving objects: 100% (2558/2558), 553.45 KiB | 8.78 MiB/s, done.\n",
            "Resolving deltas: 100% (1960/1960), done.\n"
          ]
        }
      ]
    },
    {
      "cell_type": "code",
      "source": [
        "import sys\n",
        "sys.path.append('/content/ML-From-Scratch')"
      ],
      "metadata": {
        "id": "3C6S83ScpVPw"
      },
      "execution_count": 7,
      "outputs": []
    },
    {
      "cell_type": "code",
      "source": [
        "import sys\n",
        "sys.path.append('/content/ML-From-Scratch/mlfromscratch')"
      ],
      "metadata": {
        "id": "AwyeGiyGpYrK"
      },
      "execution_count": 8,
      "outputs": []
    },
    {
      "cell_type": "code",
      "source": [
        "from __future__ import division, print_function\n",
        "import numpy as np\n",
        "import math\n",
        "from sklearn import datasets\n",
        "import matplotlib.pyplot as plt\n",
        "import pandas as pd\n",
        "\n",
        "# Mengimpor fungsi helper dari modul kustom\n",
        "from m1fromscratch.utils import train_test_split, accuracy_score, plot\n",
        "\n",
        "# Decision stump digunakan sebagai weak classifier dalam implementasi Adaboost ini\n",
        "class DecisionStump():\n",
        "    def __init__(self):\n",
        "        self.polarity = 1\n",
        "        self.feature_index = None\n",
        "        self.threshold = None\n",
        "        self.alpha = None\n",
        "\n",
        "class Adaboost():\n",
        "    \"\"\"Boosting method yang menggunakan sejumlah weak classifier dalam ensemble untuk membuat classifier yang kuat.\n",
        "    Implementasi ini menggunakan decision stumps, yang merupakan decision tree satu tingkat.\n",
        "\n",
        "    Parameter:\n",
        "    -----------\n",
        "    n_clf: int\n",
        "        Jumlah weak classifier yang akan digunakan.\n",
        "    \"\"\"\n",
        "    def __init__(self, n_clf=5):\n",
        "        self.n_clf = n_clf\n",
        "        self.classifiers = []\n",
        "\n",
        "    def fit(self, x, y):\n",
        "        n_samples, n_features = np.shape(x)\n",
        "        # Tambahkan kode untuk melatih model di sini\n",
        "        print(f\"Jumlah sampel: {n_samples}, Jumlah fitur: {n_features}\")\n",
        "\n",
        "class MyClassifier:\n",
        "    def __init__(self, n_clf=5):\n",
        "        self.n_clf = n_clf\n",
        "\n",
        "    def fit(self, x, y):\n",
        "        n_samples, n_features = np.shape(x)\n",
        "        # Tambahkan kode untuk melatih model di sini\n",
        "        print(f\"Jumlah sampel: {n_samples}, Jumlah fitur: {n_features}\")\n",
        "\n",
        "# Contoh penggunaan\n",
        "if __name__ == '__main__':\n",
        "    # Misalnya, kita ingin menggunakan kelas MyClassifier\n",
        "    clf = MyClassifier(n_clf=10)\n",
        "    x = np.array([[1, 2], [3, 4], [5, 6]])\n",
        "    y = np.array([1, -1, 1])\n",
        "    clf.fit(x, y)\n"
      ],
      "metadata": {
        "id": "mD8MDLHPpiGY"
      },
      "execution_count": null,
      "outputs": []
    }
  ]
}